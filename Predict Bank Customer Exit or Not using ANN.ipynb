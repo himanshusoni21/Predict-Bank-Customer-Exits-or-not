{
 "cells": [
  {
   "cell_type": "code",
   "execution_count": 2,
   "metadata": {},
   "outputs": [],
   "source": [
    "import numpy as np\n",
    "import matplotlib.pyplot as plt\n",
    "import pandas as pd"
   ]
  },
  {
   "cell_type": "code",
   "execution_count": 3,
   "metadata": {},
   "outputs": [
    {
     "data": {
      "text/html": [
       "<div>\n",
       "<style scoped>\n",
       "    .dataframe tbody tr th:only-of-type {\n",
       "        vertical-align: middle;\n",
       "    }\n",
       "\n",
       "    .dataframe tbody tr th {\n",
       "        vertical-align: top;\n",
       "    }\n",
       "\n",
       "    .dataframe thead th {\n",
       "        text-align: right;\n",
       "    }\n",
       "</style>\n",
       "<table border=\"1\" class=\"dataframe\">\n",
       "  <thead>\n",
       "    <tr style=\"text-align: right;\">\n",
       "      <th></th>\n",
       "      <th>RowNumber</th>\n",
       "      <th>CustomerId</th>\n",
       "      <th>Surname</th>\n",
       "      <th>CreditScore</th>\n",
       "      <th>Geography</th>\n",
       "      <th>Gender</th>\n",
       "      <th>Age</th>\n",
       "      <th>Tenure</th>\n",
       "      <th>Balance</th>\n",
       "      <th>NumOfProducts</th>\n",
       "      <th>HasCrCard</th>\n",
       "      <th>IsActiveMember</th>\n",
       "      <th>EstimatedSalary</th>\n",
       "      <th>Exited</th>\n",
       "    </tr>\n",
       "  </thead>\n",
       "  <tbody>\n",
       "    <tr>\n",
       "      <th>0</th>\n",
       "      <td>1</td>\n",
       "      <td>15634602</td>\n",
       "      <td>Hargrave</td>\n",
       "      <td>619</td>\n",
       "      <td>France</td>\n",
       "      <td>Female</td>\n",
       "      <td>42</td>\n",
       "      <td>2</td>\n",
       "      <td>0.00</td>\n",
       "      <td>1</td>\n",
       "      <td>1</td>\n",
       "      <td>1</td>\n",
       "      <td>101348.88</td>\n",
       "      <td>1</td>\n",
       "    </tr>\n",
       "    <tr>\n",
       "      <th>1</th>\n",
       "      <td>2</td>\n",
       "      <td>15647311</td>\n",
       "      <td>Hill</td>\n",
       "      <td>608</td>\n",
       "      <td>Spain</td>\n",
       "      <td>Female</td>\n",
       "      <td>41</td>\n",
       "      <td>1</td>\n",
       "      <td>83807.86</td>\n",
       "      <td>1</td>\n",
       "      <td>0</td>\n",
       "      <td>1</td>\n",
       "      <td>112542.58</td>\n",
       "      <td>0</td>\n",
       "    </tr>\n",
       "    <tr>\n",
       "      <th>2</th>\n",
       "      <td>3</td>\n",
       "      <td>15619304</td>\n",
       "      <td>Onio</td>\n",
       "      <td>502</td>\n",
       "      <td>France</td>\n",
       "      <td>Female</td>\n",
       "      <td>42</td>\n",
       "      <td>8</td>\n",
       "      <td>159660.80</td>\n",
       "      <td>3</td>\n",
       "      <td>1</td>\n",
       "      <td>0</td>\n",
       "      <td>113931.57</td>\n",
       "      <td>1</td>\n",
       "    </tr>\n",
       "    <tr>\n",
       "      <th>3</th>\n",
       "      <td>4</td>\n",
       "      <td>15701354</td>\n",
       "      <td>Boni</td>\n",
       "      <td>699</td>\n",
       "      <td>France</td>\n",
       "      <td>Female</td>\n",
       "      <td>39</td>\n",
       "      <td>1</td>\n",
       "      <td>0.00</td>\n",
       "      <td>2</td>\n",
       "      <td>0</td>\n",
       "      <td>0</td>\n",
       "      <td>93826.63</td>\n",
       "      <td>0</td>\n",
       "    </tr>\n",
       "    <tr>\n",
       "      <th>4</th>\n",
       "      <td>5</td>\n",
       "      <td>15737888</td>\n",
       "      <td>Mitchell</td>\n",
       "      <td>850</td>\n",
       "      <td>Spain</td>\n",
       "      <td>Female</td>\n",
       "      <td>43</td>\n",
       "      <td>2</td>\n",
       "      <td>125510.82</td>\n",
       "      <td>1</td>\n",
       "      <td>1</td>\n",
       "      <td>1</td>\n",
       "      <td>79084.10</td>\n",
       "      <td>0</td>\n",
       "    </tr>\n",
       "  </tbody>\n",
       "</table>\n",
       "</div>"
      ],
      "text/plain": [
       "   RowNumber  CustomerId   Surname  CreditScore Geography  Gender  Age  \\\n",
       "0          1    15634602  Hargrave          619    France  Female   42   \n",
       "1          2    15647311      Hill          608     Spain  Female   41   \n",
       "2          3    15619304      Onio          502    France  Female   42   \n",
       "3          4    15701354      Boni          699    France  Female   39   \n",
       "4          5    15737888  Mitchell          850     Spain  Female   43   \n",
       "\n",
       "   Tenure    Balance  NumOfProducts  HasCrCard  IsActiveMember  \\\n",
       "0       2       0.00              1          1               1   \n",
       "1       1   83807.86              1          0               1   \n",
       "2       8  159660.80              3          1               0   \n",
       "3       1       0.00              2          0               0   \n",
       "4       2  125510.82              1          1               1   \n",
       "\n",
       "   EstimatedSalary  Exited  \n",
       "0        101348.88       1  \n",
       "1        112542.58       0  \n",
       "2        113931.57       1  \n",
       "3         93826.63       0  \n",
       "4         79084.10       0  "
      ]
     },
     "execution_count": 3,
     "metadata": {},
     "output_type": "execute_result"
    }
   ],
   "source": [
    "data = pd.read_csv('E:\\\\itsstudytym\\\\Deep Learning with NLP CV\\\\Customer Exit Prediction from Bank using ANN\\\\Churn_Modelling.csv')\n",
    "data.head()"
   ]
  },
  {
   "cell_type": "code",
   "execution_count": 4,
   "metadata": {},
   "outputs": [],
   "source": [
    "X = data.iloc[:,3:13]\n",
    "y = data.iloc[:,13]"
   ]
  },
  {
   "cell_type": "code",
   "execution_count": 5,
   "metadata": {},
   "outputs": [],
   "source": [
    "geo = pd.get_dummies(X['Geography'],drop_first=True)\n",
    "gender = pd.get_dummies(X['Gender'],drop_first=True)"
   ]
  },
  {
   "cell_type": "code",
   "execution_count": 6,
   "metadata": {},
   "outputs": [
    {
     "data": {
      "text/html": [
       "<div>\n",
       "<style scoped>\n",
       "    .dataframe tbody tr th:only-of-type {\n",
       "        vertical-align: middle;\n",
       "    }\n",
       "\n",
       "    .dataframe tbody tr th {\n",
       "        vertical-align: top;\n",
       "    }\n",
       "\n",
       "    .dataframe thead th {\n",
       "        text-align: right;\n",
       "    }\n",
       "</style>\n",
       "<table border=\"1\" class=\"dataframe\">\n",
       "  <thead>\n",
       "    <tr style=\"text-align: right;\">\n",
       "      <th></th>\n",
       "      <th>CreditScore</th>\n",
       "      <th>Age</th>\n",
       "      <th>Tenure</th>\n",
       "      <th>Balance</th>\n",
       "      <th>NumOfProducts</th>\n",
       "      <th>HasCrCard</th>\n",
       "      <th>IsActiveMember</th>\n",
       "      <th>EstimatedSalary</th>\n",
       "      <th>Germany</th>\n",
       "      <th>Spain</th>\n",
       "      <th>Male</th>\n",
       "    </tr>\n",
       "  </thead>\n",
       "  <tbody>\n",
       "    <tr>\n",
       "      <th>0</th>\n",
       "      <td>619</td>\n",
       "      <td>42</td>\n",
       "      <td>2</td>\n",
       "      <td>0.00</td>\n",
       "      <td>1</td>\n",
       "      <td>1</td>\n",
       "      <td>1</td>\n",
       "      <td>101348.88</td>\n",
       "      <td>0</td>\n",
       "      <td>0</td>\n",
       "      <td>0</td>\n",
       "    </tr>\n",
       "    <tr>\n",
       "      <th>1</th>\n",
       "      <td>608</td>\n",
       "      <td>41</td>\n",
       "      <td>1</td>\n",
       "      <td>83807.86</td>\n",
       "      <td>1</td>\n",
       "      <td>0</td>\n",
       "      <td>1</td>\n",
       "      <td>112542.58</td>\n",
       "      <td>0</td>\n",
       "      <td>1</td>\n",
       "      <td>0</td>\n",
       "    </tr>\n",
       "    <tr>\n",
       "      <th>2</th>\n",
       "      <td>502</td>\n",
       "      <td>42</td>\n",
       "      <td>8</td>\n",
       "      <td>159660.80</td>\n",
       "      <td>3</td>\n",
       "      <td>1</td>\n",
       "      <td>0</td>\n",
       "      <td>113931.57</td>\n",
       "      <td>0</td>\n",
       "      <td>0</td>\n",
       "      <td>0</td>\n",
       "    </tr>\n",
       "    <tr>\n",
       "      <th>3</th>\n",
       "      <td>699</td>\n",
       "      <td>39</td>\n",
       "      <td>1</td>\n",
       "      <td>0.00</td>\n",
       "      <td>2</td>\n",
       "      <td>0</td>\n",
       "      <td>0</td>\n",
       "      <td>93826.63</td>\n",
       "      <td>0</td>\n",
       "      <td>0</td>\n",
       "      <td>0</td>\n",
       "    </tr>\n",
       "    <tr>\n",
       "      <th>4</th>\n",
       "      <td>850</td>\n",
       "      <td>43</td>\n",
       "      <td>2</td>\n",
       "      <td>125510.82</td>\n",
       "      <td>1</td>\n",
       "      <td>1</td>\n",
       "      <td>1</td>\n",
       "      <td>79084.10</td>\n",
       "      <td>0</td>\n",
       "      <td>1</td>\n",
       "      <td>0</td>\n",
       "    </tr>\n",
       "  </tbody>\n",
       "</table>\n",
       "</div>"
      ],
      "text/plain": [
       "   CreditScore  Age  Tenure    Balance  NumOfProducts  HasCrCard  \\\n",
       "0          619   42       2       0.00              1          1   \n",
       "1          608   41       1   83807.86              1          0   \n",
       "2          502   42       8  159660.80              3          1   \n",
       "3          699   39       1       0.00              2          0   \n",
       "4          850   43       2  125510.82              1          1   \n",
       "\n",
       "   IsActiveMember  EstimatedSalary  Germany  Spain  Male  \n",
       "0               1        101348.88        0      0     0  \n",
       "1               1        112542.58        0      1     0  \n",
       "2               0        113931.57        0      0     0  \n",
       "3               0         93826.63        0      0     0  \n",
       "4               1         79084.10        0      1     0  "
      ]
     },
     "execution_count": 6,
     "metadata": {},
     "output_type": "execute_result"
    }
   ],
   "source": [
    "X = X.drop(['Geography','Gender'],axis=1)\n",
    "X = pd.concat([X,geo,gender],axis=1)\n",
    "X.head()"
   ]
  },
  {
   "cell_type": "markdown",
   "metadata": {},
   "source": [
    "### Train Test Split"
   ]
  },
  {
   "cell_type": "code",
   "execution_count": 7,
   "metadata": {},
   "outputs": [],
   "source": [
    "from sklearn.model_selection import train_test_split\n",
    "X_train,X_test,y_train,y_test = train_test_split(X,y,test_size=0.25,random_state=0)"
   ]
  },
  {
   "cell_type": "markdown",
   "metadata": {},
   "source": [
    "### Feature Scaling using StandardScaler"
   ]
  },
  {
   "cell_type": "code",
   "execution_count": 8,
   "metadata": {},
   "outputs": [],
   "source": [
    "from sklearn.preprocessing import StandardScaler\n",
    "sc = StandardScaler()\n",
    "X_train = sc.fit_transform(X_train)\n",
    "X_test = sc.transform(X_test)"
   ]
  },
  {
   "cell_type": "code",
   "execution_count": 9,
   "metadata": {},
   "outputs": [
    {
     "name": "stderr",
     "output_type": "stream",
     "text": [
      "Using TensorFlow backend.\n"
     ]
    }
   ],
   "source": [
    "import keras\n",
    "from keras.models import Sequential\n",
    "from keras.layers import Dense\n",
    "from keras.layers import LeakyReLU,ReLU\n",
    "from keras.layers import Dropout"
   ]
  },
  {
   "cell_type": "markdown",
   "metadata": {},
   "source": [
    "#### Add First Input Layer"
   ]
  },
  {
   "cell_type": "code",
   "execution_count": 10,
   "metadata": {},
   "outputs": [],
   "source": [
    "ann = Sequential()\n",
    "ann.add(Dense(units=6,kernel_initializer='he_uniform',activation='relu',input_dim=11))"
   ]
  },
  {
   "cell_type": "markdown",
   "metadata": {},
   "source": [
    "#### Add Hidden Second Layer"
   ]
  },
  {
   "cell_type": "code",
   "execution_count": 11,
   "metadata": {},
   "outputs": [],
   "source": [
    "ann.add(Dense(units=6,kernel_initializer='he_uniform',activation='relu'))"
   ]
  },
  {
   "cell_type": "markdown",
   "metadata": {},
   "source": [
    "#### Add Output Layer"
   ]
  },
  {
   "cell_type": "code",
   "execution_count": 12,
   "metadata": {},
   "outputs": [],
   "source": [
    "ann.add(Dense(units=1,kernel_initializer='glorot_uniform',activation='sigmoid'))"
   ]
  },
  {
   "cell_type": "markdown",
   "metadata": {},
   "source": [
    "#### Compiling ANN"
   ]
  },
  {
   "cell_type": "code",
   "execution_count": 13,
   "metadata": {},
   "outputs": [],
   "source": [
    "ann.compile(optimizer='adam',loss='binary_crossentropy',metrics=['accuracy'])"
   ]
  },
  {
   "cell_type": "markdown",
   "metadata": {},
   "source": [
    "#### Fitting ANN"
   ]
  },
  {
   "cell_type": "code",
   "execution_count": 14,
   "metadata": {},
   "outputs": [
    {
     "name": "stdout",
     "output_type": "stream",
     "text": [
      "Train on 5024 samples, validate on 2476 samples\n",
      "Epoch 1/10\n",
      "5024/5024 [==============================] - 2s 369us/step - loss: 0.7811 - accuracy: 0.5864 - val_loss: 0.5127 - val_accuracy: 0.7977\n",
      "Epoch 2/10\n",
      "5024/5024 [==============================] - 1s 190us/step - loss: 0.4874 - accuracy: 0.7966 - val_loss: 0.4638 - val_accuracy: 0.8013\n",
      "Epoch 3/10\n",
      "5024/5024 [==============================] - 1s 183us/step - loss: 0.4481 - accuracy: 0.8065 - val_loss: 0.4400 - val_accuracy: 0.8126\n",
      "Epoch 4/10\n",
      "5024/5024 [==============================] - 1s 178us/step - loss: 0.4273 - accuracy: 0.8151 - val_loss: 0.4287 - val_accuracy: 0.8150\n",
      "Epoch 5/10\n",
      "5024/5024 [==============================] - 1s 184us/step - loss: 0.4121 - accuracy: 0.8195 - val_loss: 0.4158 - val_accuracy: 0.8195\n",
      "Epoch 6/10\n",
      "5024/5024 [==============================] - 1s 289us/step - loss: 0.3974 - accuracy: 0.8292 - val_loss: 0.4019 - val_accuracy: 0.8279\n",
      "Epoch 7/10\n",
      "5024/5024 [==============================] - 1s 223us/step - loss: 0.3811 - accuracy: 0.8416 - val_loss: 0.3888 - val_accuracy: 0.8384\n",
      "Epoch 8/10\n",
      "5024/5024 [==============================] - 1s 178us/step - loss: 0.3676 - accuracy: 0.8489 - val_loss: 0.3802 - val_accuracy: 0.8425\n",
      "Epoch 9/10\n",
      "5024/5024 [==============================] - 1s 188us/step - loss: 0.3574 - accuracy: 0.8533 - val_loss: 0.3742 - val_accuracy: 0.8473\n",
      "Epoch 10/10\n",
      "5024/5024 [==============================] - 1s 183us/step - loss: 0.3516 - accuracy: 0.8535 - val_loss: 0.3681 - val_accuracy: 0.8518\n"
     ]
    }
   ],
   "source": [
    "result = ann.fit(X_train,y_train,validation_split=0.33,batch_size=10,epochs=10)"
   ]
  },
  {
   "cell_type": "code",
   "execution_count": 15,
   "metadata": {},
   "outputs": [
    {
     "name": "stdout",
     "output_type": "stream",
     "text": [
      "Train on 5024 samples, validate on 2476 samples\n",
      "Epoch 1/50\n",
      "5024/5024 [==============================] - 1s 200us/step - loss: 0.3466 - accuracy: 0.8551 - val_loss: 0.3667 - val_accuracy: 0.8494\n",
      "Epoch 2/50\n",
      "5024/5024 [==============================] - 1s 183us/step - loss: 0.3446 - accuracy: 0.8553 - val_loss: 0.3645 - val_accuracy: 0.8494\n",
      "Epoch 3/50\n",
      "5024/5024 [==============================] - 1s 172us/step - loss: 0.3423 - accuracy: 0.8585 - val_loss: 0.3638 - val_accuracy: 0.8534\n",
      "Epoch 4/50\n",
      "5024/5024 [==============================] - 1s 198us/step - loss: 0.3402 - accuracy: 0.8589 - val_loss: 0.3638 - val_accuracy: 0.8538\n",
      "Epoch 5/50\n",
      "5024/5024 [==============================] - 1s 216us/step - loss: 0.3389 - accuracy: 0.8609 - val_loss: 0.3631 - val_accuracy: 0.8554\n",
      "Epoch 6/50\n",
      "5024/5024 [==============================] - 1s 173us/step - loss: 0.3385 - accuracy: 0.8591 - val_loss: 0.3648 - val_accuracy: 0.8538\n",
      "Epoch 7/50\n",
      "5024/5024 [==============================] - 1s 173us/step - loss: 0.3369 - accuracy: 0.8591 - val_loss: 0.3614 - val_accuracy: 0.8570\n",
      "Epoch 8/50\n",
      "5024/5024 [==============================] - 1s 174us/step - loss: 0.3367 - accuracy: 0.8593 - val_loss: 0.3625 - val_accuracy: 0.8538\n",
      "Epoch 9/50\n",
      "5024/5024 [==============================] - 1s 174us/step - loss: 0.3358 - accuracy: 0.8605 - val_loss: 0.3620 - val_accuracy: 0.8530\n",
      "Epoch 10/50\n",
      "5024/5024 [==============================] - 1s 177us/step - loss: 0.3350 - accuracy: 0.8587 - val_loss: 0.3627 - val_accuracy: 0.8530\n",
      "Epoch 11/50\n",
      "5024/5024 [==============================] - 1s 245us/step - loss: 0.3346 - accuracy: 0.8601 - val_loss: 0.3607 - val_accuracy: 0.8534\n",
      "Epoch 12/50\n",
      "5024/5024 [==============================] - 1s 175us/step - loss: 0.3339 - accuracy: 0.8619 - val_loss: 0.3602 - val_accuracy: 0.8542\n",
      "Epoch 13/50\n",
      "5024/5024 [==============================] - 1s 173us/step - loss: 0.3334 - accuracy: 0.8621 - val_loss: 0.3612 - val_accuracy: 0.8530\n",
      "Epoch 14/50\n",
      "5024/5024 [==============================] - 1s 175us/step - loss: 0.3330 - accuracy: 0.8619 - val_loss: 0.3597 - val_accuracy: 0.8534\n",
      "Epoch 15/50\n",
      "5024/5024 [==============================] - 1s 174us/step - loss: 0.3327 - accuracy: 0.8611 - val_loss: 0.3596 - val_accuracy: 0.8542\n",
      "Epoch 16/50\n",
      "5024/5024 [==============================] - 1s 171us/step - loss: 0.3325 - accuracy: 0.8621 - val_loss: 0.3599 - val_accuracy: 0.8534\n",
      "Epoch 17/50\n",
      "5024/5024 [==============================] - 1s 244us/step - loss: 0.3321 - accuracy: 0.8619 - val_loss: 0.3585 - val_accuracy: 0.8574\n",
      "Epoch 18/50\n",
      "5024/5024 [==============================] - 1s 182us/step - loss: 0.3317 - accuracy: 0.8621 - val_loss: 0.3588 - val_accuracy: 0.8562\n",
      "Epoch 19/50\n",
      "5024/5024 [==============================] - 1s 175us/step - loss: 0.3316 - accuracy: 0.8613 - val_loss: 0.3592 - val_accuracy: 0.8558\n",
      "Epoch 20/50\n",
      "5024/5024 [==============================] - 1s 173us/step - loss: 0.3315 - accuracy: 0.8623 - val_loss: 0.3587 - val_accuracy: 0.8566\n",
      "Epoch 21/50\n",
      "5024/5024 [==============================] - 1s 176us/step - loss: 0.3311 - accuracy: 0.8613 - val_loss: 0.3597 - val_accuracy: 0.8522\n",
      "Epoch 22/50\n",
      "5024/5024 [==============================] - 1s 175us/step - loss: 0.3309 - accuracy: 0.8633 - val_loss: 0.3585 - val_accuracy: 0.8574\n",
      "Epoch 23/50\n",
      "5024/5024 [==============================] - 1s 274us/step - loss: 0.3314 - accuracy: 0.8625 - val_loss: 0.3586 - val_accuracy: 0.8550\n",
      "Epoch 24/50\n",
      "5024/5024 [==============================] - 1s 285us/step - loss: 0.3309 - accuracy: 0.8633 - val_loss: 0.3583 - val_accuracy: 0.8566\n",
      "Epoch 25/50\n",
      "5024/5024 [==============================] - 2s 303us/step - loss: 0.3306 - accuracy: 0.8615 - val_loss: 0.3589 - val_accuracy: 0.8574\n",
      "Epoch 26/50\n",
      "5024/5024 [==============================] - 1s 179us/step - loss: 0.3303 - accuracy: 0.8633 - val_loss: 0.3587 - val_accuracy: 0.8574\n",
      "Epoch 27/50\n",
      "5024/5024 [==============================] - 1s 216us/step - loss: 0.3301 - accuracy: 0.8615 - val_loss: 0.3595 - val_accuracy: 0.8566\n",
      "Epoch 28/50\n",
      "5024/5024 [==============================] - 1s 214us/step - loss: 0.3301 - accuracy: 0.8633 - val_loss: 0.3581 - val_accuracy: 0.8599\n",
      "Epoch 29/50\n",
      "5024/5024 [==============================] - 1s 181us/step - loss: 0.3297 - accuracy: 0.8633 - val_loss: 0.3589 - val_accuracy: 0.8566\n",
      "Epoch 30/50\n",
      "5024/5024 [==============================] - 1s 183us/step - loss: 0.3298 - accuracy: 0.8627 - val_loss: 0.3579 - val_accuracy: 0.8578\n",
      "Epoch 31/50\n",
      "5024/5024 [==============================] - 1s 181us/step - loss: 0.3292 - accuracy: 0.8623 - val_loss: 0.3575 - val_accuracy: 0.8607\n",
      "Epoch 32/50\n",
      "5024/5024 [==============================] - 1s 184us/step - loss: 0.3293 - accuracy: 0.8643 - val_loss: 0.3588 - val_accuracy: 0.8582\n",
      "Epoch 33/50\n",
      "5024/5024 [==============================] - 2s 321us/step - loss: 0.3288 - accuracy: 0.8645 - val_loss: 0.3587 - val_accuracy: 0.8586\n",
      "Epoch 34/50\n",
      "5024/5024 [==============================] - 1s 207us/step - loss: 0.3290 - accuracy: 0.8650 - val_loss: 0.3579 - val_accuracy: 0.8578\n",
      "Epoch 35/50\n",
      "5024/5024 [==============================] - 1s 190us/step - loss: 0.3284 - accuracy: 0.8650 - val_loss: 0.3590 - val_accuracy: 0.8562\n",
      "Epoch 36/50\n",
      "5024/5024 [==============================] - 1s 173us/step - loss: 0.3283 - accuracy: 0.8646 - val_loss: 0.3577 - val_accuracy: 0.8590\n",
      "Epoch 37/50\n",
      "5024/5024 [==============================] - 1s 185us/step - loss: 0.3283 - accuracy: 0.8645 - val_loss: 0.3589 - val_accuracy: 0.8570\n",
      "Epoch 38/50\n",
      "5024/5024 [==============================] - 1s 179us/step - loss: 0.3279 - accuracy: 0.8650 - val_loss: 0.3600 - val_accuracy: 0.8578\n",
      "Epoch 39/50\n",
      "5024/5024 [==============================] - ETA: 0s - loss: 0.3290 - accuracy: 0.86 - 1s 248us/step - loss: 0.3277 - accuracy: 0.8643 - val_loss: 0.3596 - val_accuracy: 0.8578\n",
      "Epoch 40/50\n",
      "5024/5024 [==============================] - 1s 175us/step - loss: 0.3281 - accuracy: 0.8645 - val_loss: 0.3600 - val_accuracy: 0.8582\n",
      "Epoch 41/50\n",
      "5024/5024 [==============================] - 1s 180us/step - loss: 0.3279 - accuracy: 0.8617 - val_loss: 0.3575 - val_accuracy: 0.8590\n",
      "Epoch 42/50\n",
      "5024/5024 [==============================] - 1s 263us/step - loss: 0.3278 - accuracy: 0.8631 - val_loss: 0.3583 - val_accuracy: 0.8590\n",
      "Epoch 43/50\n",
      "5024/5024 [==============================] - 1s 178us/step - loss: 0.3272 - accuracy: 0.8631 - val_loss: 0.3594 - val_accuracy: 0.8578\n",
      "Epoch 44/50\n",
      "5024/5024 [==============================] - 1s 222us/step - loss: 0.3273 - accuracy: 0.8648 - val_loss: 0.3596 - val_accuracy: 0.8578\n",
      "Epoch 45/50\n",
      "5024/5024 [==============================] - 1s 204us/step - loss: 0.3271 - accuracy: 0.8637 - val_loss: 0.3603 - val_accuracy: 0.8582\n",
      "Epoch 46/50\n",
      "5024/5024 [==============================] - 1s 187us/step - loss: 0.3272 - accuracy: 0.8637 - val_loss: 0.3594 - val_accuracy: 0.8582\n",
      "Epoch 47/50\n",
      "5024/5024 [==============================] - 1s 226us/step - loss: 0.3273 - accuracy: 0.8635 - val_loss: 0.3587 - val_accuracy: 0.8599\n",
      "Epoch 48/50\n",
      "5024/5024 [==============================] - 1s 211us/step - loss: 0.3264 - accuracy: 0.8639 - val_loss: 0.3609 - val_accuracy: 0.8586\n",
      "Epoch 49/50\n",
      "5024/5024 [==============================] - 1s 203us/step - loss: 0.3271 - accuracy: 0.8646 - val_loss: 0.3576 - val_accuracy: 0.8607\n",
      "Epoch 50/50\n",
      "5024/5024 [==============================] - 2s 302us/step - loss: 0.3268 - accuracy: 0.8625 - val_loss: 0.3583 - val_accuracy: 0.8611\n"
     ]
    }
   ],
   "source": [
    "result2 = ann.fit(X_train,y_train,validation_split=0.33,batch_size=10,epochs=50)"
   ]
  },
  {
   "cell_type": "code",
   "execution_count": 16,
   "metadata": {},
   "outputs": [
    {
     "name": "stdout",
     "output_type": "stream",
     "text": [
      "dict_keys(['val_loss', 'val_accuracy', 'loss', 'accuracy'])\n"
     ]
    }
   ],
   "source": [
    "print(result.history.keys())"
   ]
  },
  {
   "cell_type": "markdown",
   "metadata": {},
   "source": [
    "#### Summarize Accuracy"
   ]
  },
  {
   "cell_type": "code",
   "execution_count": 17,
   "metadata": {},
   "outputs": [
    {
     "data": {
      "image/png": "[encoded data removed]",
      "text/plain": [
       "<Figure size 576x504 with 1 Axes>"
      ]
     },
     "metadata": {
      "needs_background": "light"
     },
     "output_type": "display_data"
    }
   ],
   "source": [
    "plt.figure(figsize=(8,7))\n",
    "plt.plot(result2.history['accuracy'],color='green')\n",
    "plt.plot(result2.history['val_accuracy'])\n",
    "plt.title('Model Accuracy')\n",
    "plt.xlabel('epoch')\n",
    "plt.ylabel('accuracy')\n",
    "plt.show()"
   ]
  },
  {
   "cell_type": "markdown",
   "metadata": {},
   "source": [
    "#### Summarize Loss"
   ]
  },
  {
   "cell_type": "code",
   "execution_count": 18,
   "metadata": {},
   "outputs": [
    {
     "data": {
      "image/png": "[encoded data removed]",
      "text/plain": [
       "<Figure size 576x504 with 1 Axes>"
      ]
     },
     "metadata": {
      "needs_background": "light"
     },
     "output_type": "display_data"
    }
   ],
   "source": [
    "plt.figure(figsize=(8,7))\n",
    "plt.plot(result2.history['loss'],color='red')\n",
    "plt.plot(result2.history['val_loss'],color='green')\n",
    "plt.xlabel('epoch')\n",
    "plt.ylabel('loss')\n",
    "plt.title('Loss Summary')\n",
    "plt.show()"
   ]
  },
  {
   "cell_type": "markdown",
   "metadata": {},
   "source": [
    "### Predict using Fit Model"
   ]
  },
  {
   "cell_type": "code",
   "execution_count": 19,
   "metadata": {},
   "outputs": [],
   "source": [
    "y_pred = ann.predict(X_test)\n",
    "y_pred = (y_pred > 0.5)\n"
   ]
  },
  {
   "cell_type": "markdown",
   "metadata": {},
   "source": [
    "### Evaluating Model"
   ]
  },
  {
   "cell_type": "code",
   "execution_count": 20,
   "metadata": {},
   "outputs": [
    {
     "name": "stdout",
     "output_type": "stream",
     "text": [
      "[[1917   74]\n",
      " [ 269  240]]\n"
     ]
    }
   ],
   "source": [
    "from sklearn.metrics import confusion_matrix\n",
    "cm = confusion_matrix(y_test,y_pred)\n",
    "print(cm)"
   ]
  },
  {
   "cell_type": "code",
   "execution_count": 21,
   "metadata": {},
   "outputs": [
    {
     "name": "stdout",
     "output_type": "stream",
     "text": [
      "0.8628\n"
     ]
    }
   ],
   "source": [
    "from sklearn.metrics import accuracy_score\n",
    "print(accuracy_score(y_test,y_pred))"
   ]
  }
 ],
 "metadata": {
  "kernelspec": {
   "display_name": "Python 3",
   "language": "python",
   "name": "python3"
  },
  "language_info": {
   "codemirror_mode": {
    "name": "ipython",
    "version": 3
   },
   "file_extension": ".py",
   "mimetype": "text/x-python",
   "name": "python",
   "nbconvert_exporter": "python",
   "pygments_lexer": "ipython3",
   "version": "3.7.7"
  }
 },
 "nbformat": 4,
 "nbformat_minor": 4
}
